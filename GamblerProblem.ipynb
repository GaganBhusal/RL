{
 "cells": [
  {
   "cell_type": "code",
   "execution_count": 165,
   "id": "4e4f2e70-9c4e-41be-963a-50a415043b1b",
   "metadata": {},
   "outputs": [],
   "source": [
    "import numpy as np\n",
    "import matplotlib.pyplot as plt"
   ]
  },
  {
   "cell_type": "code",
   "execution_count": 166,
   "id": "2c6b298a-8894-4098-a4a6-3f156fce20da",
   "metadata": {},
   "outputs": [],
   "source": [
    "def calcReward(state, action, ph, rewards, action_values):\n",
    "    return ph * (rewards[state + action] + action_values[state + action]) + (1 - ph) * (rewards[state - action] + action_values[state - action])\n"
   ]
  },
  {
   "cell_type": "code",
   "execution_count": 760,
   "id": "c6eb0f6e-d345-4853-919e-b10ca9a8c64e",
   "metadata": {},
   "outputs": [],
   "source": [
    "def value_iteration():\n",
    "    action_values = np.zeros(101)\n",
    "    states = np.arange(0, 101)\n",
    "    rewards = np.zeros(101)\n",
    "    rewards[100] = 1\n",
    "    \n",
    "    ph = 0.4\n",
    "    completed = False\n",
    "    threashold = 1e-5\n",
    "    while not completed:\n",
    "        \n",
    "        delta = 0\n",
    "        for j in range(1, len(states)-1):\n",
    "            temp_action_values = []\n",
    "            previous_value = action_values[j]\n",
    "            current_state = states[j]\n",
    "            actions = np.arange(1, min(current_state, 100 - current_state) + 1)\n",
    "            for action in actions:\n",
    "                temp_action_values.append(calcReward(current_state, action, ph, rewards, action_values))\n",
    "            action_values[j] = np.max(temp_action_values)\n",
    "            # state_values[j] = calcReward(current_state, actions, ph, state_values)\n",
    "            delta = max(delta, action_values[j] - previous_value)\n",
    "        if delta < threashold:\n",
    "            completed = True\n",
    "\n",
    "    \n",
    "    policy = np.zeros(101)\n",
    "    for j in range(1, len(states) - 1):\n",
    "        temp_action_values = []\n",
    "        current_state = states[j]\n",
    "        actions = np.arange(1, min(current_state, 100 - current_state) + 1)\n",
    "        for action in actions:\n",
    "            temp_action_values.append(calcReward(current_state, action, ph, rewards, action_values))\n",
    "        # print((np.where(temp_action_values == np.max(temp_action_values))[0] + 1))\n",
    "        # print(j)\n",
    "        policies = (np.where(temp_action_values == np.max(temp_action_values))[0] + 1)\n",
    "        if len(policies)>1:\n",
    "            policy[j] = policies[0].item()\n",
    "        else:\n",
    "            policy[j] = policies.item()\n",
    "        # if j == 27:\n",
    "        #     print(temp_action_values)\n",
    "        # print(j)\n",
    "        \n",
    "    return action_values, policy"
   ]
  },
  {
   "cell_type": "code",
   "execution_count": null,
   "id": "43c1e162-4779-4f30-9799-3e70b84852fa",
   "metadata": {},
   "outputs": [],
   "source": []
  },
  {
   "cell_type": "code",
   "execution_count": 763,
   "id": "a2c2da6a-d91c-4f24-b4d6-8e6d42af3b22",
   "metadata": {},
   "outputs": [
    {
     "data": {
      "text/plain": [
       "101"
      ]
     },
     "execution_count": 763,
     "metadata": {},
     "output_type": "execute_result"
    }
   ],
   "source": [
    "values, policy = value_iteration()\n",
    "len(values)"
   ]
  },
  {
   "cell_type": "code",
   "execution_count": 765,
   "id": "7563473a-3f08-4e7d-b402-c3408dea9313",
   "metadata": {},
   "outputs": [
    {
     "data": {
      "text/plain": [
       "[<matplotlib.lines.Line2D at 0x7213478c75f0>]"
      ]
     },
     "execution_count": 765,
     "metadata": {},
     "output_type": "execute_result"
    },
    {
     "data": {
      "image/png": "[encoded data removed]",
      "text/plain": [
       "<Figure size 640x480 with 1 Axes>"
      ]
     },
     "metadata": {},
     "output_type": "display_data"
    }
   ],
   "source": [
    "plt.plot(range(0, 100), values[:100])\n",
    "plt.plot(range(0, 100), policy[:100])"
   ]
  },
  {
   "cell_type": "code",
   "execution_count": 512,
   "id": "855cda4e-d4b3-449a-bdce-b9eb7e64f314",
   "metadata": {},
   "outputs": [
    {
     "name": "stdout",
     "output_type": "stream",
     "text": [
      "[0. 1. 1. 1. 1. 1. 1. 1. 1. 1. 1. 1. 1. 1. 1. 1. 1. 1. 1. 1. 1. 1. 1. 1.\n",
      " 1. 1. 1. 1. 1. 1. 1. 1. 1. 1. 1. 1. 1. 1. 1. 1. 1. 1. 1. 1. 1. 1. 1. 1.\n",
      " 1. 1. 1. 1. 1. 1. 1. 1. 1. 1. 1. 1. 1. 1. 1. 1. 1. 1. 1. 1. 1. 1. 1. 1.\n",
      " 1. 1. 1. 1. 1. 1. 1. 1. 1. 1. 1. 1. 1. 1. 1. 1. 1. 1. 1. 1. 1. 1. 1. 1.\n",
      " 1. 1. 1. 1. 0.]\n"
     ]
    }
   ],
   "source": [
    "print(policy)"
   ]
  },
  {
   "cell_type": "code",
   "execution_count": 514,
   "id": "28d0cd20-a614-4fc9-83b4-e46cdc3b3065",
   "metadata": {},
   "outputs": [
    {
     "name": "stdout",
     "output_type": "stream",
     "text": [
      "[0.         0.00206467 0.00516393 0.00922521 0.01291015 0.01738521\n",
      " 0.02306354 0.02781403 0.03227537 0.03768437 0.04346334 0.05035416\n",
      " 0.05765916 0.0652388  0.06953513 0.07443112 0.08068842 0.08661062\n",
      " 0.0942125  0.10314328 0.10865867 0.11596637 0.12588597 0.13357982\n",
      " 0.14414789 0.16       0.16309836 0.16774609 0.17383812 0.17936522\n",
      " 0.18607801 0.19459549 0.20172108 0.20841305 0.2165275  0.2251952\n",
      " 0.23553158 0.24648874 0.25785902 0.26430287 0.2716468  0.28103265\n",
      " 0.2899165  0.30131895 0.31471541 0.32298808 0.3339499  0.34882925\n",
      " 0.36036994 0.37622196 0.4        0.40309836 0.40774609 0.41383812\n",
      " 0.41936522 0.42607801 0.43459549 0.44172108 0.44841305 0.4565275\n",
      " 0.4651952  0.47553158 0.48648874 0.49785902 0.50430287 0.5116468\n",
      " 0.52103265 0.5299165  0.54131895 0.55471541 0.56298808 0.5739499\n",
      " 0.58882925 0.60036994 0.61622196 0.64       0.64464765 0.65161913\n",
      " 0.6607573  0.66904783 0.67911712 0.69189324 0.70258172 0.71261959\n",
      " 0.72479137 0.73779285 0.75329755 0.76973318 0.78678859 0.79645438\n",
      " 0.80747027 0.82154903 0.83487482 0.85197853 0.87207316 0.88448216\n",
      " 0.90092489 0.92324389 0.94055494 0.96433296 0.        ]\n"
     ]
    }
   ],
   "source": [
    "print(values)"
   ]
  },
  {
   "cell_type": "code",
   "execution_count": 656,
   "id": "70130bba-57f2-4ddc-b3d9-ff83729a4564",
   "metadata": {},
   "outputs": [],
   "source": [
    "a = np.array([1,2,3,4,5])\n",
    "b = [5, 6, 7]"
   ]
  },
  {
   "cell_type": "code",
   "execution_count": 658,
   "id": "2a3a5565-6701-496f-9499-cf79e347efdc",
   "metadata": {},
   "outputs": [
    {
     "data": {
      "text/plain": [
       "array([0])"
      ]
     },
     "execution_count": 658,
     "metadata": {},
     "output_type": "execute_result"
    }
   ],
   "source": [
    "np.where(b == np.max(a))[0]"
   ]
  },
  {
   "cell_type": "code",
   "execution_count": null,
   "id": "58ac629a-2888-44ce-8350-e155eac575f2",
   "metadata": {},
   "outputs": [],
   "source": []
  },
  {
   "cell_type": "code",
   "execution_count": null,
   "id": "0ed3ac2b-244c-4dff-8299-aa486a5a5e24",
   "metadata": {},
   "outputs": [],
   "source": []
  }
 ],
 "metadata": {
  "kernelspec": {
   "display_name": "Python 3 (ipykernel)",
   "language": "python",
   "name": "python3"
  },
  "language_info": {
   "codemirror_mode": {
    "name": "ipython",
    "version": 3
   },
   "file_extension": ".py",
   "mimetype": "text/x-python",
   "name": "python",
   "nbconvert_exporter": "python",
   "pygments_lexer": "ipython3",
   "version": "3.12.4"
  }
 },
 "nbformat": 4,
 "nbformat_minor": 5
}
