{
 "cells": [
  {
   "cell_type": "code",
   "execution_count": 5,
   "id": "9346a984-98b8-4b27-83f8-3075f69c4d3c",
   "metadata": {},
   "outputs": [],
   "source": [
    "import time\n",
    "import random\n",
    "\n",
    "import numpy as np\n",
    "import matplotlib.pyplot as plt"
   ]
  },
  {
   "cell_type": "code",
   "execution_count": 7,
   "id": "38db51d6-5134-4e06-adab-4b56bf1d6f79",
   "metadata": {},
   "outputs": [],
   "source": [
    "import torch\n",
    "import torch.nn as nn\n",
    "import torch.optim as Adam\n",
    "\n",
    "import gymnasium as gym"
   ]
  },
  {
   "cell_type": "code",
   "execution_count": 9,
   "id": "4b686de4-28c2-4163-ab6b-a2c3d0bd7be1",
   "metadata": {},
   "outputs": [],
   "source": [
    "class NN(nn.Module):\n",
    "\n",
    "    def __init__(self, n_states, n_actions):\n",
    "        super().__init__()\n",
    "        self.n_states = n_states\n",
    "        self.n_actions = n_actions\n",
    "\n",
    "        self.network = nn.Sequential(\n",
    "            nn.Linear(self.n_states, 128),\n",
    "            nn.ReLU(),\n",
    "            nn.Linear(128, 256),\n",
    "            nn.ReLU(),\n",
    "            nn.Linear(256, 256),\n",
    "            nn.ReLU(),\n",
    "            nn.Linear(265, 128),\n",
    "            nn.ReLU(),\n",
    "            nn.Linear(128, self.n_actions)\n",
    "        )\n",
    "\n",
    "    def forward(self, states):\n",
    "        return self.network(states)"
   ]
  },
  {
   "cell_type": "code",
   "execution_count": null,
   "id": "5d7a8cb6-94d5-454b-8bdf-74617a4f4597",
   "metadata": {},
   "outputs": [],
   "source": [
    "class PrioritizedReplayBuffer(self):\n",
    "    def __init__(self, size = 100000, steps = 5):\n",
    "        self.size = size\n",
    "        self.steps = steps\n",
    "\n",
    "        self.buffer = deque(size)\n",
    "        self.n_step_buffer = deque(steps)\n",
    "\n",
    "    def add()"
   ]
  }
 ],
 "metadata": {
  "kernelspec": {
   "display_name": "Python 3 (ipykernel)",
   "language": "python",
   "name": "python3"
  },
  "language_info": {
   "codemirror_mode": {
    "name": "ipython",
    "version": 3
   },
   "file_extension": ".py",
   "mimetype": "text/x-python",
   "name": "python",
   "nbconvert_exporter": "python",
   "pygments_lexer": "ipython3",
   "version": "3.12.2"
  }
 },
 "nbformat": 4,
 "nbformat_minor": 5
}
